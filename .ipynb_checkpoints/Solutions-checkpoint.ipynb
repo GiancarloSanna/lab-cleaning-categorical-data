{
 "cells": [
  {
   "cell_type": "markdown",
   "id": "09e4581f",
   "metadata": {},
   "source": [
    "# 1. Import the necessary libraries if you are starting a new notebook. \n",
    "Using the same data as the previous lab: we_fn_use_c_marketing_customer_value_analysis.csv"
   ]
  },
  {
   "cell_type": "code",
   "execution_count": 1,
   "id": "4a0e7fd3",
   "metadata": {},
   "outputs": [],
   "source": [
    "import  numpy as np\n",
    "import pandas as pd\n",
    "import time\n",
    "from datetime import datetime\n",
    "import matplotlib.pyplot as plt\n",
    "import seaborn as sns"
   ]
  },
  {
   "cell_type": "code",
   "execution_count": 2,
   "id": "0fe09e92",
   "metadata": {},
   "outputs": [
    {
     "data": {
      "text/plain": [
       "(9134, 24)"
      ]
     },
     "execution_count": 2,
     "metadata": {},
     "output_type": "execute_result"
    }
   ],
   "source": [
    "customer_df = pd.read_csv('./files_for_lab/we_fn_use_c_marketing_customer_value_analysis.csv')\n",
    "customer_df.shape"
   ]
  },
  {
   "cell_type": "code",
   "execution_count": 3,
   "id": "ded150a3",
   "metadata": {},
   "outputs": [
    {
     "data": {
      "text/plain": [
       "Index(['customer', 'state', 'customer_lifetime_value', 'response', 'coverage',\n",
       "       'education', 'effective_to_date', 'employmentstatus', 'gender',\n",
       "       'income', 'location_code', 'marital_status', 'monthly_premium_auto',\n",
       "       'months_since_last_claim', 'months_since_policy_inception',\n",
       "       'number_of_open_complaints', 'number_of_policies', 'policy_type',\n",
       "       'policy', 'renew_offer_type', 'sales_channel', 'total_claim_amount',\n",
       "       'vehicle_class', 'vehicle_size'],\n",
       "      dtype='object')"
      ]
     },
     "execution_count": 3,
     "metadata": {},
     "output_type": "execute_result"
    }
   ],
   "source": [
    "# Converting to snakecase again\n",
    "cols = []\n",
    "for column in customer_df.columns:\n",
    "    cols.append(column.lower())\n",
    "customer_df.columns = cols\n",
    "cols = []\n",
    "for column in customer_df.columns:\n",
    "    cols.append(column.replace(' ','_'))\n",
    "customer_df.columns = cols\n",
    "\n",
    "customer_df.columns"
   ]
  },
  {
   "cell_type": "markdown",
   "id": "e5534098",
   "metadata": {},
   "source": [
    "# 2. Find all of the categorical data. \n",
    "Save it in a categorical_df variable."
   ]
  },
  {
   "cell_type": "code",
   "execution_count": 4,
   "id": "256eac62",
   "metadata": {},
   "outputs": [
    {
     "data": {
      "text/html": [
       "<div>\n",
       "<style scoped>\n",
       "    .dataframe tbody tr th:only-of-type {\n",
       "        vertical-align: middle;\n",
       "    }\n",
       "\n",
       "    .dataframe tbody tr th {\n",
       "        vertical-align: top;\n",
       "    }\n",
       "\n",
       "    .dataframe thead th {\n",
       "        text-align: right;\n",
       "    }\n",
       "</style>\n",
       "<table border=\"1\" class=\"dataframe\">\n",
       "  <thead>\n",
       "    <tr style=\"text-align: right;\">\n",
       "      <th></th>\n",
       "      <th>customer</th>\n",
       "      <th>state</th>\n",
       "      <th>customer_lifetime_value</th>\n",
       "      <th>response</th>\n",
       "      <th>coverage</th>\n",
       "      <th>education</th>\n",
       "      <th>effective_to_date</th>\n",
       "      <th>employmentstatus</th>\n",
       "      <th>gender</th>\n",
       "      <th>income</th>\n",
       "      <th>...</th>\n",
       "      <th>months_since_policy_inception</th>\n",
       "      <th>number_of_open_complaints</th>\n",
       "      <th>number_of_policies</th>\n",
       "      <th>policy_type</th>\n",
       "      <th>policy</th>\n",
       "      <th>renew_offer_type</th>\n",
       "      <th>sales_channel</th>\n",
       "      <th>total_claim_amount</th>\n",
       "      <th>vehicle_class</th>\n",
       "      <th>vehicle_size</th>\n",
       "    </tr>\n",
       "  </thead>\n",
       "  <tbody>\n",
       "    <tr>\n",
       "      <th>0</th>\n",
       "      <td>BU79786</td>\n",
       "      <td>Washington</td>\n",
       "      <td>2763.519279</td>\n",
       "      <td>No</td>\n",
       "      <td>Basic</td>\n",
       "      <td>Bachelor</td>\n",
       "      <td>2/24/11</td>\n",
       "      <td>Employed</td>\n",
       "      <td>F</td>\n",
       "      <td>56274</td>\n",
       "      <td>...</td>\n",
       "      <td>5</td>\n",
       "      <td>0</td>\n",
       "      <td>1</td>\n",
       "      <td>Corporate Auto</td>\n",
       "      <td>Corporate L3</td>\n",
       "      <td>Offer1</td>\n",
       "      <td>Agent</td>\n",
       "      <td>384.811147</td>\n",
       "      <td>Two-Door Car</td>\n",
       "      <td>Medsize</td>\n",
       "    </tr>\n",
       "  </tbody>\n",
       "</table>\n",
       "<p>1 rows × 24 columns</p>\n",
       "</div>"
      ],
      "text/plain": [
       "  customer       state  customer_lifetime_value response coverage education  \\\n",
       "0  BU79786  Washington              2763.519279       No    Basic  Bachelor   \n",
       "\n",
       "  effective_to_date employmentstatus gender  income  ...  \\\n",
       "0           2/24/11         Employed      F   56274  ...   \n",
       "\n",
       "  months_since_policy_inception number_of_open_complaints  number_of_policies  \\\n",
       "0                             5                         0                   1   \n",
       "\n",
       "      policy_type        policy  renew_offer_type  sales_channel  \\\n",
       "0  Corporate Auto  Corporate L3            Offer1          Agent   \n",
       "\n",
       "  total_claim_amount vehicle_class vehicle_size  \n",
       "0         384.811147  Two-Door Car      Medsize  \n",
       "\n",
       "[1 rows x 24 columns]"
      ]
     },
     "execution_count": 4,
     "metadata": {},
     "output_type": "execute_result"
    }
   ],
   "source": [
    "customer_df.head(1)"
   ]
  },
  {
   "cell_type": "code",
   "execution_count": 5,
   "id": "d338ad18",
   "metadata": {},
   "outputs": [
    {
     "data": {
      "text/plain": [
       "Index(['customer', 'state', 'response', 'coverage', 'education',\n",
       "       'effective_to_date', 'employmentstatus', 'gender', 'location_code',\n",
       "       'marital_status', 'policy_type', 'policy', 'renew_offer_type',\n",
       "       'sales_channel', 'vehicle_class', 'vehicle_size'],\n",
       "      dtype='object')"
      ]
     },
     "execution_count": 5,
     "metadata": {},
     "output_type": "execute_result"
    }
   ],
   "source": [
    "categorical_df = customer_df.select_dtypes(include = object)\n",
    "categorical_df.columns"
   ]
  },
  {
   "cell_type": "markdown",
   "id": "3efd8026",
   "metadata": {},
   "source": [
    "# 3. Check for NaN values."
   ]
  },
  {
   "cell_type": "code",
   "execution_count": 6,
   "id": "691a7309",
   "metadata": {},
   "outputs": [
    {
     "data": {
      "text/plain": [
       "customer             0\n",
       "state                0\n",
       "response             0\n",
       "coverage             0\n",
       "education            0\n",
       "effective_to_date    0\n",
       "employmentstatus     0\n",
       "gender               0\n",
       "location_code        0\n",
       "marital_status       0\n",
       "policy_type          0\n",
       "policy               0\n",
       "renew_offer_type     0\n",
       "sales_channel        0\n",
       "vehicle_class        0\n",
       "vehicle_size         0\n",
       "dtype: int64"
      ]
     },
     "execution_count": 6,
     "metadata": {},
     "output_type": "execute_result"
    }
   ],
   "source": [
    "# There are no NaN values in our dataset\n",
    "categorical_df.isna().sum()"
   ]
  },
  {
   "cell_type": "markdown",
   "id": "39958e7d",
   "metadata": {},
   "source": [
    "# 4. Check all unique values of columns."
   ]
  },
  {
   "cell_type": "code",
   "execution_count": 7,
   "id": "b83b8d9a",
   "metadata": {},
   "outputs": [
    {
     "name": "stdout",
     "output_type": "stream",
     "text": [
      "customer\n"
     ]
    },
    {
     "data": {
      "text/plain": [
       "array(['BU79786', 'QZ44356', 'AI49188', ..., 'TD14365', 'UP19263',\n",
       "       'Y167826'], dtype=object)"
      ]
     },
     "metadata": {},
     "output_type": "display_data"
    },
    {
     "name": "stdout",
     "output_type": "stream",
     "text": [
      "state\n"
     ]
    },
    {
     "data": {
      "text/plain": [
       "array(['Washington', 'Arizona', 'Nevada', 'California', 'Oregon'],\n",
       "      dtype=object)"
      ]
     },
     "metadata": {},
     "output_type": "display_data"
    },
    {
     "name": "stdout",
     "output_type": "stream",
     "text": [
      "response\n"
     ]
    },
    {
     "data": {
      "text/plain": [
       "array(['No', 'Yes'], dtype=object)"
      ]
     },
     "metadata": {},
     "output_type": "display_data"
    },
    {
     "name": "stdout",
     "output_type": "stream",
     "text": [
      "coverage\n"
     ]
    },
    {
     "data": {
      "text/plain": [
       "array(['Basic', 'Extended', 'Premium'], dtype=object)"
      ]
     },
     "metadata": {},
     "output_type": "display_data"
    },
    {
     "name": "stdout",
     "output_type": "stream",
     "text": [
      "education\n"
     ]
    },
    {
     "data": {
      "text/plain": [
       "array(['Bachelor', 'College', 'Master', 'High School or Below', 'Doctor'],\n",
       "      dtype=object)"
      ]
     },
     "metadata": {},
     "output_type": "display_data"
    },
    {
     "name": "stdout",
     "output_type": "stream",
     "text": [
      "effective_to_date\n"
     ]
    },
    {
     "data": {
      "text/plain": [
       "array(['2/24/11', '1/31/11', '2/19/11', '1/20/11', '2/3/11', '1/25/11',\n",
       "       '1/18/11', '1/26/11', '2/17/11', '2/21/11', '1/6/11', '2/6/11',\n",
       "       '1/10/11', '1/17/11', '1/5/11', '2/27/11', '1/14/11', '1/21/11',\n",
       "       '2/5/11', '1/29/11', '2/28/11', '2/12/11', '2/2/11', '2/7/11',\n",
       "       '1/22/11', '2/13/11', '1/15/11', '1/8/11', '1/11/11', '1/28/11',\n",
       "       '2/8/11', '2/23/11', '1/2/11', '2/16/11', '1/27/11', '1/23/11',\n",
       "       '1/9/11', '2/11/11', '2/4/11', '2/1/11', '2/15/11', '2/26/11',\n",
       "       '1/16/11', '1/1/11', '2/10/11', '1/24/11', '2/25/11', '1/12/11',\n",
       "       '2/9/11', '1/19/11', '1/4/11', '2/14/11', '2/20/11', '2/18/11',\n",
       "       '1/3/11', '1/13/11', '1/30/11', '2/22/11', '1/7/11'], dtype=object)"
      ]
     },
     "metadata": {},
     "output_type": "display_data"
    },
    {
     "name": "stdout",
     "output_type": "stream",
     "text": [
      "employmentstatus\n"
     ]
    },
    {
     "data": {
      "text/plain": [
       "array(['Employed', 'Unemployed', 'Medical Leave', 'Disabled', 'Retired'],\n",
       "      dtype=object)"
      ]
     },
     "metadata": {},
     "output_type": "display_data"
    },
    {
     "name": "stdout",
     "output_type": "stream",
     "text": [
      "gender\n"
     ]
    },
    {
     "data": {
      "text/plain": [
       "array(['F', 'M'], dtype=object)"
      ]
     },
     "metadata": {},
     "output_type": "display_data"
    },
    {
     "name": "stdout",
     "output_type": "stream",
     "text": [
      "location_code\n"
     ]
    },
    {
     "data": {
      "text/plain": [
       "array(['Suburban', 'Rural', 'Urban'], dtype=object)"
      ]
     },
     "metadata": {},
     "output_type": "display_data"
    },
    {
     "name": "stdout",
     "output_type": "stream",
     "text": [
      "marital_status\n"
     ]
    },
    {
     "data": {
      "text/plain": [
       "array(['Married', 'Single', 'Divorced'], dtype=object)"
      ]
     },
     "metadata": {},
     "output_type": "display_data"
    },
    {
     "name": "stdout",
     "output_type": "stream",
     "text": [
      "policy_type\n"
     ]
    },
    {
     "data": {
      "text/plain": [
       "array(['Corporate Auto', 'Personal Auto', 'Special Auto'], dtype=object)"
      ]
     },
     "metadata": {},
     "output_type": "display_data"
    },
    {
     "name": "stdout",
     "output_type": "stream",
     "text": [
      "policy\n"
     ]
    },
    {
     "data": {
      "text/plain": [
       "array(['Corporate L3', 'Personal L3', 'Corporate L2', 'Personal L1',\n",
       "       'Special L2', 'Corporate L1', 'Personal L2', 'Special L1',\n",
       "       'Special L3'], dtype=object)"
      ]
     },
     "metadata": {},
     "output_type": "display_data"
    },
    {
     "name": "stdout",
     "output_type": "stream",
     "text": [
      "renew_offer_type\n"
     ]
    },
    {
     "data": {
      "text/plain": [
       "array(['Offer1', 'Offer3', 'Offer2', 'Offer4'], dtype=object)"
      ]
     },
     "metadata": {},
     "output_type": "display_data"
    },
    {
     "name": "stdout",
     "output_type": "stream",
     "text": [
      "sales_channel\n"
     ]
    },
    {
     "data": {
      "text/plain": [
       "array(['Agent', 'Call Center', 'Web', 'Branch'], dtype=object)"
      ]
     },
     "metadata": {},
     "output_type": "display_data"
    },
    {
     "name": "stdout",
     "output_type": "stream",
     "text": [
      "vehicle_class\n"
     ]
    },
    {
     "data": {
      "text/plain": [
       "array(['Two-Door Car', 'Four-Door Car', 'SUV', 'Luxury SUV', 'Sports Car',\n",
       "       'Luxury Car'], dtype=object)"
      ]
     },
     "metadata": {},
     "output_type": "display_data"
    },
    {
     "name": "stdout",
     "output_type": "stream",
     "text": [
      "vehicle_size\n"
     ]
    },
    {
     "data": {
      "text/plain": [
       "array(['Medsize', 'Small', 'Large'], dtype=object)"
      ]
     },
     "metadata": {},
     "output_type": "display_data"
    }
   ],
   "source": [
    "for c in categorical_df.columns:\n",
    "    print(c)\n",
    "    display(categorical_df[c].unique())"
   ]
  },
  {
   "cell_type": "markdown",
   "id": "44fff26a",
   "metadata": {},
   "source": [
    "# 5. Check dtypes. Do they all make sense as categorical data?"
   ]
  },
  {
   "cell_type": "code",
   "execution_count": 8,
   "id": "edb4f690",
   "metadata": {},
   "outputs": [
    {
     "data": {
      "text/plain": [
       "customer             object\n",
       "state                object\n",
       "response             object\n",
       "coverage             object\n",
       "education            object\n",
       "effective_to_date    object\n",
       "employmentstatus     object\n",
       "gender               object\n",
       "location_code        object\n",
       "marital_status       object\n",
       "policy_type          object\n",
       "policy               object\n",
       "renew_offer_type     object\n",
       "sales_channel        object\n",
       "vehicle_class        object\n",
       "vehicle_size         object\n",
       "dtype: object"
      ]
     },
     "execution_count": 8,
     "metadata": {},
     "output_type": "execute_result"
    }
   ],
   "source": [
    "categorical_df.dtypes"
   ]
  },
  {
   "cell_type": "markdown",
   "id": "edc47c79",
   "metadata": {},
   "source": [
    "The effective_to_date column does not make sense as categorical data since in future instances a vast amount of different values could be added, we drop it from the categorical dataframe."
   ]
  },
  {
   "cell_type": "code",
   "execution_count": 9,
   "id": "3d3ea1d0",
   "metadata": {},
   "outputs": [],
   "source": [
    "categorical_df.drop('effective_to_date', inplace = True, axis = 1)"
   ]
  },
  {
   "cell_type": "markdown",
   "id": "bcd1ac6a",
   "metadata": {},
   "source": [
    "It would make sense to convert if to datetime format, but we already did that in the previous lab."
   ]
  },
  {
   "cell_type": "markdown",
   "id": "9117a01b",
   "metadata": {},
   "source": [
    "# 6. Does any column contain alpha and numeric data? \n",
    "Decide how to clean it."
   ]
  },
  {
   "cell_type": "markdown",
   "id": "4e09cf86",
   "metadata": {},
   "source": [
    "The only numbers in the categorical data are in the customer and in the policy_type columns.\n",
    "The customer values are all individual and the column can be dropped.\n",
    "There is no reason to change anything at policy_type, if we would remove the numbers we couldn't differentiate the policies anymore."
   ]
  },
  {
   "cell_type": "code",
   "execution_count": 10,
   "id": "07954420",
   "metadata": {},
   "outputs": [
    {
     "data": {
      "text/html": [
       "<div>\n",
       "<style scoped>\n",
       "    .dataframe tbody tr th:only-of-type {\n",
       "        vertical-align: middle;\n",
       "    }\n",
       "\n",
       "    .dataframe tbody tr th {\n",
       "        vertical-align: top;\n",
       "    }\n",
       "\n",
       "    .dataframe thead th {\n",
       "        text-align: right;\n",
       "    }\n",
       "</style>\n",
       "<table border=\"1\" class=\"dataframe\">\n",
       "  <thead>\n",
       "    <tr style=\"text-align: right;\">\n",
       "      <th></th>\n",
       "      <th>state</th>\n",
       "      <th>response</th>\n",
       "      <th>coverage</th>\n",
       "      <th>education</th>\n",
       "      <th>employmentstatus</th>\n",
       "      <th>gender</th>\n",
       "      <th>location_code</th>\n",
       "      <th>marital_status</th>\n",
       "      <th>policy_type</th>\n",
       "      <th>policy</th>\n",
       "      <th>renew_offer_type</th>\n",
       "      <th>sales_channel</th>\n",
       "      <th>vehicle_class</th>\n",
       "      <th>vehicle_size</th>\n",
       "    </tr>\n",
       "  </thead>\n",
       "  <tbody>\n",
       "    <tr>\n",
       "      <th>0</th>\n",
       "      <td>Washington</td>\n",
       "      <td>No</td>\n",
       "      <td>Basic</td>\n",
       "      <td>Bachelor</td>\n",
       "      <td>Employed</td>\n",
       "      <td>F</td>\n",
       "      <td>Suburban</td>\n",
       "      <td>Married</td>\n",
       "      <td>Corporate Auto</td>\n",
       "      <td>Corporate L3</td>\n",
       "      <td>Offer1</td>\n",
       "      <td>Agent</td>\n",
       "      <td>Two-Door Car</td>\n",
       "      <td>Medsize</td>\n",
       "    </tr>\n",
       "  </tbody>\n",
       "</table>\n",
       "</div>"
      ],
      "text/plain": [
       "        state response coverage education employmentstatus gender  \\\n",
       "0  Washington       No    Basic  Bachelor         Employed      F   \n",
       "\n",
       "  location_code marital_status     policy_type        policy renew_offer_type  \\\n",
       "0      Suburban        Married  Corporate Auto  Corporate L3           Offer1   \n",
       "\n",
       "  sales_channel vehicle_class vehicle_size  \n",
       "0         Agent  Two-Door Car      Medsize  "
      ]
     },
     "execution_count": 10,
     "metadata": {},
     "output_type": "execute_result"
    }
   ],
   "source": [
    "categorical_df.drop('customer', inplace = True, axis = 1)\n",
    "categorical_df.head(1)"
   ]
  },
  {
   "cell_type": "markdown",
   "id": "6caee9c5",
   "metadata": {},
   "source": [
    "# 7. Would you choose to do anything else to clean or wrangle the categorical data? \n",
    "Comment your decisions."
   ]
  },
  {
   "cell_type": "markdown",
   "id": "84dc3cd4",
   "metadata": {},
   "source": [
    "Since we don't have NaN's or a column with unnessesary data, or any apparent errors, I would decide, that apart from the summarizations in task 9 there is no more data cleaning to be done."
   ]
  },
  {
   "cell_type": "markdown",
   "id": "672ddf13",
   "metadata": {},
   "source": [
    "We can include the discrete numerical data into our categoricals, since the values tend to be more similar to categorical data."
   ]
  },
  {
   "cell_type": "markdown",
   "id": "c36e9135",
   "metadata": {},
   "source": [
    "# 8. Compare policy_type and policy. \n",
    "What information is contained in these columns. Can you identify what is important?"
   ]
  },
  {
   "cell_type": "code",
   "execution_count": 11,
   "id": "618255df",
   "metadata": {},
   "outputs": [
    {
     "data": {
      "text/plain": [
       "Personal Auto     6788\n",
       "Corporate Auto    1968\n",
       "Special Auto       378\n",
       "Name: policy_type, dtype: int64"
      ]
     },
     "execution_count": 11,
     "metadata": {},
     "output_type": "execute_result"
    }
   ],
   "source": [
    "categorical_df['policy_type'].value_counts()"
   ]
  },
  {
   "cell_type": "code",
   "execution_count": 12,
   "id": "8609b815",
   "metadata": {},
   "outputs": [
    {
     "data": {
      "text/plain": [
       "Personal L3     3426\n",
       "Personal L2     2122\n",
       "Personal L1     1240\n",
       "Corporate L3    1014\n",
       "Corporate L2     595\n",
       "Corporate L1     359\n",
       "Special L2       164\n",
       "Special L3       148\n",
       "Special L1        66\n",
       "Name: policy, dtype: int64"
      ]
     },
     "execution_count": 12,
     "metadata": {},
     "output_type": "execute_result"
    }
   ],
   "source": [
    "categorical_df['policy'].value_counts()"
   ]
  },
  {
   "cell_type": "code",
   "execution_count": 13,
   "id": "feee8bf0",
   "metadata": {},
   "outputs": [
    {
     "data": {
      "text/plain": [
       "Personal L3    3426\n",
       "Personal L2    2122\n",
       "Personal L1    1240\n",
       "Name: policy, dtype: int64"
      ]
     },
     "execution_count": 13,
     "metadata": {},
     "output_type": "execute_result"
    }
   ],
   "source": [
    "# It looks like the coulmn  policy is a more granular version of policy_typ.\n",
    "# We check this:\n",
    "categorical_df[categorical_df['policy_type'] == 'Personal Auto']['policy'].value_counts()"
   ]
  },
  {
   "cell_type": "code",
   "execution_count": 14,
   "id": "203ddadd",
   "metadata": {},
   "outputs": [
    {
     "data": {
      "text/plain": [
       "Special L2    164\n",
       "Special L3    148\n",
       "Special L1     66\n",
       "Name: policy, dtype: int64"
      ]
     },
     "execution_count": 14,
     "metadata": {},
     "output_type": "execute_result"
    }
   ],
   "source": [
    "categorical_df[categorical_df['policy_type'] == 'Special Auto']['policy'].value_counts()"
   ]
  },
  {
   "cell_type": "code",
   "execution_count": 15,
   "id": "07aaad62",
   "metadata": {},
   "outputs": [
    {
     "data": {
      "text/html": [
       "<div>\n",
       "<style scoped>\n",
       "    .dataframe tbody tr th:only-of-type {\n",
       "        vertical-align: middle;\n",
       "    }\n",
       "\n",
       "    .dataframe tbody tr th {\n",
       "        vertical-align: top;\n",
       "    }\n",
       "\n",
       "    .dataframe thead th {\n",
       "        text-align: right;\n",
       "    }\n",
       "</style>\n",
       "<table border=\"1\" class=\"dataframe\">\n",
       "  <thead>\n",
       "    <tr style=\"text-align: right;\">\n",
       "      <th></th>\n",
       "      <th>state</th>\n",
       "      <th>response</th>\n",
       "      <th>coverage</th>\n",
       "      <th>education</th>\n",
       "      <th>employmentstatus</th>\n",
       "      <th>gender</th>\n",
       "      <th>location_code</th>\n",
       "      <th>marital_status</th>\n",
       "      <th>policy</th>\n",
       "      <th>renew_offer_type</th>\n",
       "      <th>sales_channel</th>\n",
       "      <th>vehicle_class</th>\n",
       "      <th>vehicle_size</th>\n",
       "    </tr>\n",
       "  </thead>\n",
       "  <tbody>\n",
       "    <tr>\n",
       "      <th>0</th>\n",
       "      <td>Washington</td>\n",
       "      <td>No</td>\n",
       "      <td>Basic</td>\n",
       "      <td>Bachelor</td>\n",
       "      <td>Employed</td>\n",
       "      <td>F</td>\n",
       "      <td>Suburban</td>\n",
       "      <td>Married</td>\n",
       "      <td>Corporate L3</td>\n",
       "      <td>Offer1</td>\n",
       "      <td>Agent</td>\n",
       "      <td>Two-Door Car</td>\n",
       "      <td>Medsize</td>\n",
       "    </tr>\n",
       "  </tbody>\n",
       "</table>\n",
       "</div>"
      ],
      "text/plain": [
       "        state response coverage education employmentstatus gender  \\\n",
       "0  Washington       No    Basic  Bachelor         Employed      F   \n",
       "\n",
       "  location_code marital_status        policy renew_offer_type sales_channel  \\\n",
       "0      Suburban        Married  Corporate L3           Offer1         Agent   \n",
       "\n",
       "  vehicle_class vehicle_size  \n",
       "0  Two-Door Car      Medsize  "
      ]
     },
     "execution_count": 15,
     "metadata": {},
     "output_type": "execute_result"
    }
   ],
   "source": [
    "# Our assumtion is correct, so we drop the policy_type column.\n",
    "categorical_df.drop('policy_type', inplace = True, axis = 1)\n",
    "categorical_df.head(1)"
   ]
  },
  {
   "cell_type": "markdown",
   "id": "42a317b9",
   "metadata": {},
   "source": [
    "# 9.Check number of unique values in each column, can they be combined in any way to ease encoding? \n",
    "Comment your thoughts and make those changes."
   ]
  },
  {
   "cell_type": "code",
   "execution_count": 16,
   "id": "e80255dd",
   "metadata": {},
   "outputs": [
    {
     "name": "stdout",
     "output_type": "stream",
     "text": [
      "state\n"
     ]
    },
    {
     "data": {
      "text/plain": [
       "California    3150\n",
       "Oregon        2601\n",
       "Arizona       1703\n",
       "Nevada         882\n",
       "Washington     798\n",
       "Name: state, dtype: int64"
      ]
     },
     "metadata": {},
     "output_type": "display_data"
    },
    {
     "name": "stdout",
     "output_type": "stream",
     "text": [
      "response\n"
     ]
    },
    {
     "data": {
      "text/plain": [
       "No     7826\n",
       "Yes    1308\n",
       "Name: response, dtype: int64"
      ]
     },
     "metadata": {},
     "output_type": "display_data"
    },
    {
     "name": "stdout",
     "output_type": "stream",
     "text": [
      "coverage\n"
     ]
    },
    {
     "data": {
      "text/plain": [
       "Basic       5568\n",
       "Extended    2742\n",
       "Premium      824\n",
       "Name: coverage, dtype: int64"
      ]
     },
     "metadata": {},
     "output_type": "display_data"
    },
    {
     "name": "stdout",
     "output_type": "stream",
     "text": [
      "education\n"
     ]
    },
    {
     "data": {
      "text/plain": [
       "Bachelor                2748\n",
       "College                 2681\n",
       "High School or Below    2622\n",
       "Master                   741\n",
       "Doctor                   342\n",
       "Name: education, dtype: int64"
      ]
     },
     "metadata": {},
     "output_type": "display_data"
    },
    {
     "name": "stdout",
     "output_type": "stream",
     "text": [
      "employmentstatus\n"
     ]
    },
    {
     "data": {
      "text/plain": [
       "Employed         5698\n",
       "Unemployed       2317\n",
       "Medical Leave     432\n",
       "Disabled          405\n",
       "Retired           282\n",
       "Name: employmentstatus, dtype: int64"
      ]
     },
     "metadata": {},
     "output_type": "display_data"
    },
    {
     "name": "stdout",
     "output_type": "stream",
     "text": [
      "gender\n"
     ]
    },
    {
     "data": {
      "text/plain": [
       "F    4658\n",
       "M    4476\n",
       "Name: gender, dtype: int64"
      ]
     },
     "metadata": {},
     "output_type": "display_data"
    },
    {
     "name": "stdout",
     "output_type": "stream",
     "text": [
      "location_code\n"
     ]
    },
    {
     "data": {
      "text/plain": [
       "Suburban    5779\n",
       "Rural       1773\n",
       "Urban       1582\n",
       "Name: location_code, dtype: int64"
      ]
     },
     "metadata": {},
     "output_type": "display_data"
    },
    {
     "name": "stdout",
     "output_type": "stream",
     "text": [
      "marital_status\n"
     ]
    },
    {
     "data": {
      "text/plain": [
       "Married     5298\n",
       "Single      2467\n",
       "Divorced    1369\n",
       "Name: marital_status, dtype: int64"
      ]
     },
     "metadata": {},
     "output_type": "display_data"
    },
    {
     "name": "stdout",
     "output_type": "stream",
     "text": [
      "policy\n"
     ]
    },
    {
     "data": {
      "text/plain": [
       "Personal L3     3426\n",
       "Personal L2     2122\n",
       "Personal L1     1240\n",
       "Corporate L3    1014\n",
       "Corporate L2     595\n",
       "Corporate L1     359\n",
       "Special L2       164\n",
       "Special L3       148\n",
       "Special L1        66\n",
       "Name: policy, dtype: int64"
      ]
     },
     "metadata": {},
     "output_type": "display_data"
    },
    {
     "name": "stdout",
     "output_type": "stream",
     "text": [
      "renew_offer_type\n"
     ]
    },
    {
     "data": {
      "text/plain": [
       "Offer1    3752\n",
       "Offer2    2926\n",
       "Offer3    1432\n",
       "Offer4    1024\n",
       "Name: renew_offer_type, dtype: int64"
      ]
     },
     "metadata": {},
     "output_type": "display_data"
    },
    {
     "name": "stdout",
     "output_type": "stream",
     "text": [
      "sales_channel\n"
     ]
    },
    {
     "data": {
      "text/plain": [
       "Agent          3477\n",
       "Branch         2567\n",
       "Call Center    1765\n",
       "Web            1325\n",
       "Name: sales_channel, dtype: int64"
      ]
     },
     "metadata": {},
     "output_type": "display_data"
    },
    {
     "name": "stdout",
     "output_type": "stream",
     "text": [
      "vehicle_class\n"
     ]
    },
    {
     "data": {
      "text/plain": [
       "Four-Door Car    4621\n",
       "Two-Door Car     1886\n",
       "SUV              1796\n",
       "Sports Car        484\n",
       "Luxury SUV        184\n",
       "Luxury Car        163\n",
       "Name: vehicle_class, dtype: int64"
      ]
     },
     "metadata": {},
     "output_type": "display_data"
    },
    {
     "name": "stdout",
     "output_type": "stream",
     "text": [
      "vehicle_size\n"
     ]
    },
    {
     "data": {
      "text/plain": [
       "Medsize    6424\n",
       "Small      1764\n",
       "Large       946\n",
       "Name: vehicle_size, dtype: int64"
      ]
     },
     "metadata": {},
     "output_type": "display_data"
    }
   ],
   "source": [
    "for c in categorical_df.columns:\n",
    "    print(c)\n",
    "    display(categorical_df[c].value_counts())"
   ]
  },
  {
   "cell_type": "code",
   "execution_count": 17,
   "id": "39343cac",
   "metadata": {},
   "outputs": [
    {
     "data": {
      "text/plain": [
       "California    3150\n",
       "Oregon        2601\n",
       "Arizona       1703\n",
       "other         1680\n",
       "Name: state, dtype: int64"
      ]
     },
     "execution_count": 17,
     "metadata": {},
     "output_type": "execute_result"
    }
   ],
   "source": [
    "# The States Wshington and Nevada have very few values. We aggregate them as 'others'.\n",
    "categorical_df['state'] = categorical_df['state'].apply(lambda x: 'other' if x in ['Washington', 'Nevada'] else x)\n",
    "categorical_df['state'].value_counts()"
   ]
  },
  {
   "cell_type": "code",
   "execution_count": 18,
   "id": "7444f084",
   "metadata": {},
   "outputs": [
    {
     "data": {
      "text/plain": [
       "Bachelor                2748\n",
       "College                 2681\n",
       "High School or Below    2622\n",
       "higher education        1083\n",
       "Name: education, dtype: int64"
      ]
     },
     "execution_count": 18,
     "metadata": {},
     "output_type": "execute_result"
    }
   ],
   "source": [
    "# For education we can summarize Master and Doctor as higher education\n",
    "categorical_df['education'] = categorical_df['education'].apply(lambda x: 'higher education' if x in ['Master', 'Doctor'] else x)\n",
    "categorical_df['education'].value_counts()"
   ]
  },
  {
   "cell_type": "code",
   "execution_count": 19,
   "id": "4e4347e6",
   "metadata": {},
   "outputs": [
    {
     "data": {
      "text/plain": [
       "Employed      5698\n",
       "Unemployed    2317\n",
       "other         1119\n",
       "Name: employmentstatus, dtype: int64"
      ]
     },
     "execution_count": 19,
     "metadata": {},
     "output_type": "execute_result"
    }
   ],
   "source": [
    "# For employment_status we can summarize Medical Leave, Retired and Disabled as other        \n",
    "categorical_df['employmentstatus'] = categorical_df['employmentstatus'].apply(lambda x: 'other' if x in ['Medical Leave', 'Retired', 'Disabled'] else x)\n",
    "categorical_df['employmentstatus'].value_counts()"
   ]
  },
  {
   "cell_type": "code",
   "execution_count": 20,
   "id": "8d34ccec",
   "metadata": {},
   "outputs": [
    {
     "data": {
      "text/plain": [
       "Personal L3    3426\n",
       "Personal L2    2122\n",
       "Corporate      1968\n",
       "Personal L1    1240\n",
       "Special         378\n",
       "Name: policy, dtype: int64"
      ]
     },
     "execution_count": 20,
     "metadata": {},
     "output_type": "execute_result"
    }
   ],
   "source": [
    "# In the column policy, we still have 6 categories.Some have few values, we simplify Corporate and Secial\n",
    "# For employment_status we can summarize Medical Leave, Retired and Disabled as other\n",
    "def pol_change(x):\n",
    "    if 'Corporate' in x:\n",
    "        return 'Corporate'\n",
    "    elif 'Special' in x:\n",
    "        return 'Special'\n",
    "    else:\n",
    "        return x\n",
    "\n",
    "categorical_df['policy'] = categorical_df['policy'].apply(pol_change)\n",
    "categorical_df['policy'].value_counts()"
   ]
  },
  {
   "cell_type": "code",
   "execution_count": 21,
   "id": "35ee9d94",
   "metadata": {},
   "outputs": [
    {
     "data": {
      "text/plain": [
       "Four-Door Car    4621\n",
       "Two-Door Car     1886\n",
       "SUV              1796\n",
       "Luxury Car        831\n",
       "Name: vehicle_class, dtype: int64"
      ]
     },
     "execution_count": 21,
     "metadata": {},
     "output_type": "execute_result"
    }
   ],
   "source": [
    "# For vehicle_class we can summarize Sports Car, Luxury Car and Luxury SUV as Luxury Car    \n",
    "categorical_df['vehicle_class'] = categorical_df['vehicle_class'].apply(lambda x: 'Luxury Car' if x in ['Luxury SUV', 'Sports Car'] else x)\n",
    "categorical_df['vehicle_class'].value_counts()"
   ]
  },
  {
   "cell_type": "code",
   "execution_count": null,
   "id": "f306bb15",
   "metadata": {},
   "outputs": [],
   "source": []
  }
 ],
 "metadata": {
  "kernelspec": {
   "display_name": "Python 3 (ipykernel)",
   "language": "python",
   "name": "python3"
  },
  "language_info": {
   "codemirror_mode": {
    "name": "ipython",
    "version": 3
   },
   "file_extension": ".py",
   "mimetype": "text/x-python",
   "name": "python",
   "nbconvert_exporter": "python",
   "pygments_lexer": "ipython3",
   "version": "3.9.13"
  }
 },
 "nbformat": 4,
 "nbformat_minor": 5
}
